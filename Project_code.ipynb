{
  "nbformat": 4,
  "nbformat_minor": 0,
  "metadata": {
    "colab": {
      "name": "Project_code.ipynb",
      "provenance": [],
      "collapsed_sections": []
    },
    "kernelspec": {
      "name": "python3",
      "display_name": "Python 3"
    },
    "language_info": {
      "name": "python"
    }
  },
  "cells": [
    {
      "cell_type": "markdown",
      "metadata": {
        "id": "Gy5_m_hQnJqL"
      },
      "source": [
        "### **Movie review classification**"
      ]
    },
    {
      "cell_type": "markdown",
      "metadata": {
        "id": "O9apQMErY2wa"
      },
      "source": [
        "Import the required libraries."
      ]
    },
    {
      "cell_type": "code",
      "metadata": {
        "id": "Ds83kHzt-13e"
      },
      "source": [
        "import numpy as np\n",
        "import pandas as pd\n",
        "import matplotlib.pyplot as plt\n",
        "import tensorflow as tf\n",
        "import scipy as sp\n",
        "from google.colab import files, drive\n",
        "from sklearn.preprocessing import LabelEncoder\n",
        "from sklearn.model_selection import train_test_split\n",
        "import nltk\n",
        "from nltk.corpus import stopwords\n",
        "import re\n",
        "from nltk.stem import PorterStemmer\n",
        "from sklearn.feature_extraction.text import TfidfVectorizer\n",
        "from keras import models\n",
        "from keras.layers import Dense"
      ],
      "execution_count": 10,
      "outputs": []
    },
    {
      "cell_type": "markdown",
      "metadata": {
        "id": "cwETkE2JY9rL"
      },
      "source": [
        "Mount the drive to access files"
      ]
    },
    {
      "cell_type": "code",
      "metadata": {
        "colab": {
          "base_uri": "https://localhost:8080/"
        },
        "id": "s6MAfzvYti0d",
        "outputId": "2bbf7602-d385-4d54-9a89-73f3ce3f3316"
      },
      "source": [
        "drive.mount('/content/drive')"
      ],
      "execution_count": 11,
      "outputs": [
        {
          "output_type": "stream",
          "name": "stdout",
          "text": [
            "Drive already mounted at /content/drive; to attempt to forcibly remount, call drive.mount(\"/content/drive\", force_remount=True).\n"
          ]
        }
      ]
    },
    {
      "cell_type": "markdown",
      "metadata": {
        "id": "laQDzH0Kx-Kp"
      },
      "source": [
        "Load the training data"
      ]
    },
    {
      "cell_type": "code",
      "metadata": {
        "colab": {
          "base_uri": "https://localhost:8080/",
          "height": 205
        },
        "id": "a9ydkgD0tnFx",
        "outputId": "464b9642-346e-4c1a-fae4-9a4686ce4ee7"
      },
      "source": [
        "data = pd.read_csv('/content/drive/MyDrive/Train.csv')\n",
        "\n",
        "data.head()"
      ],
      "execution_count": 12,
      "outputs": [
        {
          "output_type": "execute_result",
          "data": {
            "text/html": [
              "<div>\n",
              "<style scoped>\n",
              "    .dataframe tbody tr th:only-of-type {\n",
              "        vertical-align: middle;\n",
              "    }\n",
              "\n",
              "    .dataframe tbody tr th {\n",
              "        vertical-align: top;\n",
              "    }\n",
              "\n",
              "    .dataframe thead th {\n",
              "        text-align: right;\n",
              "    }\n",
              "</style>\n",
              "<table border=\"1\" class=\"dataframe\">\n",
              "  <thead>\n",
              "    <tr style=\"text-align: right;\">\n",
              "      <th></th>\n",
              "      <th>review</th>\n",
              "      <th>label</th>\n",
              "    </tr>\n",
              "  </thead>\n",
              "  <tbody>\n",
              "    <tr>\n",
              "      <th>0</th>\n",
              "      <td>mature intelligent and highly charged melodram...</td>\n",
              "      <td>pos</td>\n",
              "    </tr>\n",
              "    <tr>\n",
              "      <th>1</th>\n",
              "      <td>http://video.google.com/videoplay?docid=211772...</td>\n",
              "      <td>pos</td>\n",
              "    </tr>\n",
              "    <tr>\n",
              "      <th>2</th>\n",
              "      <td>Title: Opera (1987) Director: Dario Argento Ca...</td>\n",
              "      <td>pos</td>\n",
              "    </tr>\n",
              "    <tr>\n",
              "      <th>3</th>\n",
              "      <td>I think a lot of people just wrote this off as...</td>\n",
              "      <td>pos</td>\n",
              "    </tr>\n",
              "    <tr>\n",
              "      <th>4</th>\n",
              "      <td>This is a story of two dogs and a cat looking ...</td>\n",
              "      <td>pos</td>\n",
              "    </tr>\n",
              "  </tbody>\n",
              "</table>\n",
              "</div>"
            ],
            "text/plain": [
              "                                              review label\n",
              "0  mature intelligent and highly charged melodram...   pos\n",
              "1  http://video.google.com/videoplay?docid=211772...   pos\n",
              "2  Title: Opera (1987) Director: Dario Argento Ca...   pos\n",
              "3  I think a lot of people just wrote this off as...   pos\n",
              "4  This is a story of two dogs and a cat looking ...   pos"
            ]
          },
          "metadata": {},
          "execution_count": 12
        }
      ]
    },
    {
      "cell_type": "code",
      "metadata": {
        "colab": {
          "base_uri": "https://localhost:8080/"
        },
        "id": "5AOHdp9et17-",
        "outputId": "a5255333-0217-4395-b0d6-7b920492806d"
      },
      "source": [
        "data.shape"
      ],
      "execution_count": 13,
      "outputs": [
        {
          "output_type": "execute_result",
          "data": {
            "text/plain": [
              "(40000, 2)"
            ]
          },
          "metadata": {},
          "execution_count": 13
        }
      ]
    },
    {
      "cell_type": "code",
      "metadata": {
        "colab": {
          "base_uri": "https://localhost:8080/"
        },
        "id": "pNlTC16iueIw",
        "outputId": "a80f6a15-e043-4db6-ee79-079f9c94de6c"
      },
      "source": [
        "data.columns"
      ],
      "execution_count": 14,
      "outputs": [
        {
          "output_type": "execute_result",
          "data": {
            "text/plain": [
              "Index(['review', 'label'], dtype='object')"
            ]
          },
          "metadata": {},
          "execution_count": 14
        }
      ]
    },
    {
      "cell_type": "code",
      "metadata": {
        "colab": {
          "base_uri": "https://localhost:8080/"
        },
        "id": "AcqWIbSRuVyK",
        "outputId": "18677209-dbd1-4609-ea62-ffa80c7bdaa3"
      },
      "source": [
        "data['label'].value_counts()"
      ],
      "execution_count": 15,
      "outputs": [
        {
          "output_type": "execute_result",
          "data": {
            "text/plain": [
              "pos    20011\n",
              "neg    19989\n",
              "Name: label, dtype: int64"
            ]
          },
          "metadata": {},
          "execution_count": 15
        }
      ]
    },
    {
      "cell_type": "markdown",
      "metadata": {
        "id": "HAqiCFDvvZf8"
      },
      "source": [
        "## Encoding the label"
      ]
    },
    {
      "cell_type": "markdown",
      "metadata": {
        "id": "hjgZ609pZO1f"
      },
      "source": [
        "Use Label Encoder to encode the labels of the dataset."
      ]
    },
    {
      "cell_type": "code",
      "metadata": {
        "id": "6ElWOH79uujm"
      },
      "source": [
        "encoder = LabelEncoder()"
      ],
      "execution_count": 16,
      "outputs": []
    },
    {
      "cell_type": "code",
      "metadata": {
        "id": "qpoLmQ76vMse"
      },
      "source": [
        "y = data['label'].values"
      ],
      "execution_count": 17,
      "outputs": []
    },
    {
      "cell_type": "code",
      "metadata": {
        "id": "nxWuXScGvOlg"
      },
      "source": [
        "y = encoder.fit_transform(y)"
      ],
      "execution_count": 18,
      "outputs": []
    },
    {
      "cell_type": "markdown",
      "metadata": {
        "id": "aVPTpJQ8ZbsL"
      },
      "source": [
        "After encoding, labels are represented as follows:\n",
        "\n",
        "neg : 0\n",
        "\n",
        "pos :1"
      ]
    },
    {
      "cell_type": "code",
      "metadata": {
        "colab": {
          "base_uri": "https://localhost:8080/"
        },
        "id": "8RtghtN_vQUV",
        "outputId": "182b9835-d915-4eec-a6eb-2000fa6a2164"
      },
      "source": [
        "y[:100]"
      ],
      "execution_count": 19,
      "outputs": [
        {
          "output_type": "execute_result",
          "data": {
            "text/plain": [
              "array([1, 1, 1, 1, 1, 1, 0, 0, 1, 1, 0, 1, 1, 0, 1, 1, 1, 0, 1, 1, 0, 1,\n",
              "       1, 0, 1, 1, 1, 0, 1, 1, 0, 1, 0, 1, 0, 0, 0, 0, 0, 0, 1, 1, 0, 1,\n",
              "       0, 1, 0, 0, 0, 1, 0, 0, 0, 1, 0, 1, 1, 0, 0, 1, 0, 1, 0, 0, 0, 1,\n",
              "       1, 0, 1, 1, 1, 0, 0, 1, 1, 1, 1, 1, 1, 1, 0, 0, 0, 0, 0, 1, 0, 0,\n",
              "       1, 1, 1, 1, 0, 1, 0, 1, 1, 0, 0, 0])"
            ]
          },
          "metadata": {},
          "execution_count": 19
        }
      ]
    },
    {
      "cell_type": "markdown",
      "metadata": {
        "id": "K0w95PzzvdRm"
      },
      "source": [
        "### Data preprocessing"
      ]
    },
    {
      "cell_type": "code",
      "metadata": {
        "colab": {
          "base_uri": "https://localhost:8080/",
          "height": 107
        },
        "id": "oM7uM477vSGK",
        "outputId": "d24082c6-70ac-4165-a77a-cdc935af582b"
      },
      "source": [
        "data['review'][11]"
      ],
      "execution_count": 20,
      "outputs": [
        {
          "output_type": "execute_result",
          "data": {
            "application/vnd.google.colaboratory.intrinsic+json": {
              "type": "string"
            },
            "text/plain": [
              "'Robert Jordan is a television star. Robert Jordan likes things orderly, on time and properly executed. In his world children are to be seen, not heard. So why would Mr. Jordan want to become the master of a rambunctious band of Boy Scouts? Ratings. His staff figures that if learns how to interact with the youth, they will be more inclined to watch his show. Of course watching Jordan cope comprises most of the fun.<br /><br />Like Mr. Belvedere and Mr. Belvedere Goes to College this one is sure to please.<br /><br />ANYONE INTERESTED IN OBTAINING A COPY OF THIS FILM PLEASE WRITE TO ME AT: IAMASEAL2@YAHOO.COM'"
            ]
          },
          "metadata": {},
          "execution_count": 20
        }
      ]
    },
    {
      "cell_type": "code",
      "metadata": {
        "colab": {
          "base_uri": "https://localhost:8080/"
        },
        "id": "mQrJACk0x0r9",
        "outputId": "9357afbf-886e-4c48-fb04-cc4c9ecec32a"
      },
      "source": [
        "nltk.download('stopwords')"
      ],
      "execution_count": 21,
      "outputs": [
        {
          "output_type": "stream",
          "name": "stdout",
          "text": [
            "[nltk_data] Downloading package stopwords to /root/nltk_data...\n",
            "[nltk_data]   Unzipping corpora/stopwords.zip.\n"
          ]
        },
        {
          "output_type": "execute_result",
          "data": {
            "text/plain": [
              "True"
            ]
          },
          "metadata": {},
          "execution_count": 21
        }
      ]
    },
    {
      "cell_type": "markdown",
      "metadata": {
        "id": "hd78IITpZw4h"
      },
      "source": [
        "English stopwords are stored in sw and stemmer function is also called."
      ]
    },
    {
      "cell_type": "code",
      "metadata": {
        "id": "SrWlSn4GxUmS"
      },
      "source": [
        "sw = set (stopwords.words('english'))\n",
        "ps = PorterStemmer()"
      ],
      "execution_count": 22,
      "outputs": []
    },
    {
      "cell_type": "code",
      "metadata": {
        "id": "yXsw5EaqyQEZ"
      },
      "source": [
        "def preprocessor(text):\n",
        "    text = text.lower() # converting characters to lower case\n",
        "    text = text.replace(\"<br /><br />\", \"\") # replacing line breaks\n",
        "    text = re.sub(\"[^a-zA-Z]+\", \" \", text) # regular expression to avoid strings that are not characters\n",
        "    text = text.split() # splitting words by space\n",
        "    text = [ps.stem(s) for s in text if s not in sw] # list comprehension for non stopwords\n",
        "    text = \" \".join(text)\n",
        "    \n",
        "    return text"
      ],
      "execution_count": 23,
      "outputs": []
    },
    {
      "cell_type": "markdown",
      "metadata": {
        "id": "5QWqTqAyazb1"
      },
      "source": [
        "Example of a cleaned review"
      ]
    },
    {
      "cell_type": "code",
      "metadata": {
        "colab": {
          "base_uri": "https://localhost:8080/",
          "height": 71
        },
        "id": "Vo1wBolRzO_w",
        "outputId": "ccb94410-46bf-4433-ddc1-c9e76b54cc05"
      },
      "source": [
        "preprocessor(data['review'][36])"
      ],
      "execution_count": 72,
      "outputs": [
        {
          "output_type": "execute_result",
          "data": {
            "application/vnd.google.colaboratory.intrinsic+json": {
              "type": "string"
            },
            "text/plain": [
              "'movi open upon julian sand lie back black kitten drool blood await mouth hold two feet provoc thought go good vampir movi die liter scene captur part imagin slow unev drivel thereaft vastli disappoint previou experi sand act quit enjoy howev attempt obvious misdirect screenplay left lot desir even julian sand question perform could begin save alreadi sunken barg movi rate fiend'"
            ]
          },
          "metadata": {},
          "execution_count": 72
        }
      ]
    },
    {
      "cell_type": "markdown",
      "metadata": {
        "id": "l1xzgPOsa2zY"
      },
      "source": [
        "Example of the same original review."
      ]
    },
    {
      "cell_type": "code",
      "metadata": {
        "colab": {
          "base_uri": "https://localhost:8080/",
          "height": 125
        },
        "id": "gtU-Tbe6znda",
        "outputId": "9dc2ff47-5c1a-4971-e151-6e3bb14e1000"
      },
      "source": [
        "data['review'][36] "
      ],
      "execution_count": 73,
      "outputs": [
        {
          "output_type": "execute_result",
          "data": {
            "application/vnd.google.colaboratory.intrinsic+json": {
              "type": "string"
            },
            "text/plain": [
              "'The movie opens upon Julian Sands, lying on his back, a black kitten drooling blood into his awaiting mouth from where he holds it, about two feet above him. That was so provocative, and I thought, \"Here we go! A good vampire movie!\" <br /><br />And then it died. That was literally the only scene which captured any part of the imagination. It was slow, uneventful drivel thereafter. I was vastly disappointed, as my previous experience with Sands\\' acting was quite enjoyable. However, this attempt was obviously misdirected and the screenplay left a lot to be desired.<br /><br />Even Julian Sands\\'s questionable performance could not begin to save this already sunken barge of a movie.<br /><br />It rates a 1.1/10 from...<br /><br />the Fiend :.'"
            ]
          },
          "metadata": {},
          "execution_count": 73
        }
      ]
    },
    {
      "cell_type": "markdown",
      "metadata": {
        "id": "ssQjvGv8aw_k"
      },
      "source": [
        "Storing cleaned review as a separate column in the dataframe."
      ]
    },
    {
      "cell_type": "code",
      "metadata": {
        "id": "uTx-Qc5FKp1F"
      },
      "source": [
        "data['cleaned_review'] =  data['review'].apply(lambda x: preprocessor(x))"
      ],
      "execution_count": 26,
      "outputs": []
    },
    {
      "cell_type": "code",
      "metadata": {
        "colab": {
          "base_uri": "https://localhost:8080/",
          "height": 422
        },
        "id": "44kZYU7kMHdW",
        "outputId": "7ef20131-6cfe-4e85-cbe7-bf71ad172666"
      },
      "source": [
        "data"
      ],
      "execution_count": 27,
      "outputs": [
        {
          "output_type": "execute_result",
          "data": {
            "text/html": [
              "<div>\n",
              "<style scoped>\n",
              "    .dataframe tbody tr th:only-of-type {\n",
              "        vertical-align: middle;\n",
              "    }\n",
              "\n",
              "    .dataframe tbody tr th {\n",
              "        vertical-align: top;\n",
              "    }\n",
              "\n",
              "    .dataframe thead th {\n",
              "        text-align: right;\n",
              "    }\n",
              "</style>\n",
              "<table border=\"1\" class=\"dataframe\">\n",
              "  <thead>\n",
              "    <tr style=\"text-align: right;\">\n",
              "      <th></th>\n",
              "      <th>review</th>\n",
              "      <th>label</th>\n",
              "      <th>cleaned_review</th>\n",
              "    </tr>\n",
              "  </thead>\n",
              "  <tbody>\n",
              "    <tr>\n",
              "      <th>0</th>\n",
              "      <td>mature intelligent and highly charged melodram...</td>\n",
              "      <td>pos</td>\n",
              "      <td>matur intellig highli charg melodrama unbelive...</td>\n",
              "    </tr>\n",
              "    <tr>\n",
              "      <th>1</th>\n",
              "      <td>http://video.google.com/videoplay?docid=211772...</td>\n",
              "      <td>pos</td>\n",
              "      <td>http video googl com videoplay docid hl en dis...</td>\n",
              "    </tr>\n",
              "    <tr>\n",
              "      <th>2</th>\n",
              "      <td>Title: Opera (1987) Director: Dario Argento Ca...</td>\n",
              "      <td>pos</td>\n",
              "      <td>titl opera director dario argento cast cristin...</td>\n",
              "    </tr>\n",
              "    <tr>\n",
              "      <th>3</th>\n",
              "      <td>I think a lot of people just wrote this off as...</td>\n",
              "      <td>pos</td>\n",
              "      <td>think lot peopl wrote anoth one tom cruis weir...</td>\n",
              "    </tr>\n",
              "    <tr>\n",
              "      <th>4</th>\n",
              "      <td>This is a story of two dogs and a cat looking ...</td>\n",
              "      <td>pos</td>\n",
              "      <td>stori two dog cat look way back home old wise ...</td>\n",
              "    </tr>\n",
              "    <tr>\n",
              "      <th>...</th>\n",
              "      <td>...</td>\n",
              "      <td>...</td>\n",
              "      <td>...</td>\n",
              "    </tr>\n",
              "    <tr>\n",
              "      <th>39995</th>\n",
              "      <td>There are similarities between Ray Lawrence's ...</td>\n",
              "      <td>neg</td>\n",
              "      <td>similar ray lawrenc jindabyn last movi lantana...</td>\n",
              "    </tr>\n",
              "    <tr>\n",
              "      <th>39996</th>\n",
              "      <td>For starters, I once met the director when he ...</td>\n",
              "      <td>neg</td>\n",
              "      <td>starter met director go ww enact period movi c...</td>\n",
              "    </tr>\n",
              "    <tr>\n",
              "      <th>39997</th>\n",
              "      <td>Much of \"Over Her Dead Body\" is so painfully u...</td>\n",
              "      <td>neg</td>\n",
              "      <td>much dead bodi pain unfunni actual squirm seat...</td>\n",
              "    </tr>\n",
              "    <tr>\n",
              "      <th>39998</th>\n",
              "      <td>\"Lifeforce\" is a truly bizarre adaptation of t...</td>\n",
              "      <td>pos</td>\n",
              "      <td>lifeforc truli bizarr adapt novel space vampir...</td>\n",
              "    </tr>\n",
              "    <tr>\n",
              "      <th>39999</th>\n",
              "      <td>I saw this movie at a screener and its the bes...</td>\n",
              "      <td>pos</td>\n",
              "      <td>saw movi screener best movi seen loooong time ...</td>\n",
              "    </tr>\n",
              "  </tbody>\n",
              "</table>\n",
              "<p>40000 rows × 3 columns</p>\n",
              "</div>"
            ],
            "text/plain": [
              "                                                  review  ...                                     cleaned_review\n",
              "0      mature intelligent and highly charged melodram...  ...  matur intellig highli charg melodrama unbelive...\n",
              "1      http://video.google.com/videoplay?docid=211772...  ...  http video googl com videoplay docid hl en dis...\n",
              "2      Title: Opera (1987) Director: Dario Argento Ca...  ...  titl opera director dario argento cast cristin...\n",
              "3      I think a lot of people just wrote this off as...  ...  think lot peopl wrote anoth one tom cruis weir...\n",
              "4      This is a story of two dogs and a cat looking ...  ...  stori two dog cat look way back home old wise ...\n",
              "...                                                  ...  ...                                                ...\n",
              "39995  There are similarities between Ray Lawrence's ...  ...  similar ray lawrenc jindabyn last movi lantana...\n",
              "39996  For starters, I once met the director when he ...  ...  starter met director go ww enact period movi c...\n",
              "39997  Much of \"Over Her Dead Body\" is so painfully u...  ...  much dead bodi pain unfunni actual squirm seat...\n",
              "39998  \"Lifeforce\" is a truly bizarre adaptation of t...  ...  lifeforc truli bizarr adapt novel space vampir...\n",
              "39999  I saw this movie at a screener and its the bes...  ...  saw movi screener best movi seen loooong time ...\n",
              "\n",
              "[40000 rows x 3 columns]"
            ]
          },
          "metadata": {},
          "execution_count": 27
        }
      ]
    },
    {
      "cell_type": "code",
      "metadata": {
        "id": "xNOQd38fMY8-"
      },
      "source": [
        "corpus = data['cleaned_review'].values"
      ],
      "execution_count": 28,
      "outputs": []
    },
    {
      "cell_type": "markdown",
      "metadata": {
        "id": "7EgysUZbbCco"
      },
      "source": [
        "Using tfidf vectorizer to vectorize the data."
      ]
    },
    {
      "cell_type": "code",
      "metadata": {
        "id": "6gYCGxDjyAb2"
      },
      "source": [
        "tfidf = TfidfVectorizer(max_features = 50000)"
      ],
      "execution_count": 29,
      "outputs": []
    },
    {
      "cell_type": "code",
      "metadata": {
        "id": "9K6pyFdt1TTP"
      },
      "source": [
        "X = tfidf.fit_transform(corpus)"
      ],
      "execution_count": 30,
      "outputs": []
    },
    {
      "cell_type": "code",
      "metadata": {
        "colab": {
          "base_uri": "https://localhost:8080/"
        },
        "id": "5Ldu4FhPP-1M",
        "outputId": "af2dba55-f28a-4390-c496-873bb09cbfee"
      },
      "source": [
        "print(X[0])"
      ],
      "execution_count": 31,
      "outputs": [
        {
          "output_type": "stream",
          "name": "stdout",
          "text": [
            "  (0, 41060)\t0.08906256168584327\n",
            "  (0, 24498)\t0.1851123495162575\n",
            "  (0, 35377)\t0.06759052981892846\n",
            "  (0, 36914)\t0.1276930371727309\n",
            "  (0, 43631)\t0.23185765777819362\n",
            "  (0, 24063)\t0.08347788004023948\n",
            "  (0, 29479)\t0.0972010268599736\n",
            "  (0, 39858)\t0.3460445567307194\n",
            "  (0, 47635)\t0.6287307016388057\n",
            "  (0, 5865)\t0.21152411965954926\n",
            "  (0, 14572)\t0.10388952154603277\n",
            "  (0, 44630)\t0.37262466753595486\n",
            "  (0, 25584)\t0.2018462552399835\n",
            "  (0, 5614)\t0.18655758543478923\n",
            "  (0, 19378)\t0.14228939888610864\n",
            "  (0, 20842)\t0.15261620176197327\n",
            "  (0, 25162)\t0.19553858051374168\n"
          ]
        }
      ]
    },
    {
      "cell_type": "code",
      "metadata": {
        "colab": {
          "base_uri": "https://localhost:8080/"
        },
        "id": "xC_GpS7OQJrI",
        "outputId": "48124f30-a35a-4698-8a7f-92fe98636e1d"
      },
      "source": [
        "X.shape"
      ],
      "execution_count": 32,
      "outputs": [
        {
          "output_type": "execute_result",
          "data": {
            "text/plain": [
              "(40000, 50000)"
            ]
          },
          "metadata": {},
          "execution_count": 32
        }
      ]
    },
    {
      "cell_type": "code",
      "metadata": {
        "colab": {
          "base_uri": "https://localhost:8080/"
        },
        "id": "oLLBYywMQNTt",
        "outputId": "ca029fc9-f37a-46ff-e93f-2fc63d2ba8ed"
      },
      "source": [
        "y.shape"
      ],
      "execution_count": 33,
      "outputs": [
        {
          "output_type": "execute_result",
          "data": {
            "text/plain": [
              "(40000,)"
            ]
          },
          "metadata": {},
          "execution_count": 33
        }
      ]
    },
    {
      "cell_type": "markdown",
      "metadata": {
        "id": "MLnSxoh9QUd4"
      },
      "source": [
        "### Neural Network"
      ]
    },
    {
      "cell_type": "markdown",
      "metadata": {
        "id": "BTpYxj-0bMKO"
      },
      "source": [
        "Sequential model is used with 3 dense layers."
      ]
    },
    {
      "cell_type": "code",
      "metadata": {
        "id": "j7iwr6SXRndo"
      },
      "source": [
        "model = models.Sequential()\n",
        "model.add( Dense(16, activation=\"relu\", input_shape = (X.shape[1],) ) )\n",
        "model.add( Dense(16, activation=\"relu\") )\n",
        "model.add( Dense(1, activation=\"sigmoid\"))"
      ],
      "execution_count": 34,
      "outputs": []
    },
    {
      "cell_type": "code",
      "metadata": {
        "colab": {
          "base_uri": "https://localhost:8080/"
        },
        "id": "HxQyTihARrT4",
        "outputId": "a325c19f-f12e-4b74-b697-20b2476a794e"
      },
      "source": [
        "model.summary()"
      ],
      "execution_count": 35,
      "outputs": [
        {
          "output_type": "stream",
          "name": "stdout",
          "text": [
            "Model: \"sequential\"\n",
            "_________________________________________________________________\n",
            "Layer (type)                 Output Shape              Param #   \n",
            "=================================================================\n",
            "dense (Dense)                (None, 16)                800016    \n",
            "_________________________________________________________________\n",
            "dense_1 (Dense)              (None, 16)                272       \n",
            "_________________________________________________________________\n",
            "dense_2 (Dense)              (None, 1)                 17        \n",
            "=================================================================\n",
            "Total params: 800,305\n",
            "Trainable params: 800,305\n",
            "Non-trainable params: 0\n",
            "_________________________________________________________________\n"
          ]
        }
      ]
    },
    {
      "cell_type": "code",
      "metadata": {
        "id": "cMu3vFOeSwpC"
      },
      "source": [
        "model.compile(optimizer='rmsprop', loss=\"binary_crossentropy\", metrics=['accuracy'])"
      ],
      "execution_count": 36,
      "outputs": []
    },
    {
      "cell_type": "markdown",
      "metadata": {
        "id": "KwonbCdLbSJk"
      },
      "source": [
        "Splitting the training date into training and validation data using 80-20 split."
      ]
    },
    {
      "cell_type": "code",
      "metadata": {
        "id": "cLxJVAnl2lTw"
      },
      "source": [
        "X_train, X_val, y_train, y_val = train_test_split(X, y, test_size = 0.2, random_state = 0)"
      ],
      "execution_count": 37,
      "outputs": []
    },
    {
      "cell_type": "code",
      "metadata": {
        "colab": {
          "base_uri": "https://localhost:8080/"
        },
        "id": "65ZDOnihUWWU",
        "outputId": "3bfcbb7c-3611-408a-80c7-d98ce1af350a"
      },
      "source": [
        "X_train.shape, y_train.shape"
      ],
      "execution_count": 38,
      "outputs": [
        {
          "output_type": "execute_result",
          "data": {
            "text/plain": [
              "((32000, 50000), (32000,))"
            ]
          },
          "metadata": {},
          "execution_count": 38
        }
      ]
    },
    {
      "cell_type": "code",
      "metadata": {
        "colab": {
          "base_uri": "https://localhost:8080/"
        },
        "id": "zZlGhLYs3DV4",
        "outputId": "4d313856-fe66-40d3-e2a4-e424c7554d7a"
      },
      "source": [
        "X_val.shape, y_val.shape"
      ],
      "execution_count": 39,
      "outputs": [
        {
          "output_type": "execute_result",
          "data": {
            "text/plain": [
              "((8000, 50000), (8000,))"
            ]
          },
          "metadata": {},
          "execution_count": 39
        }
      ]
    },
    {
      "cell_type": "code",
      "metadata": {
        "id": "1_DjVF8cgsSi"
      },
      "source": [
        "X_train.sort_indices()\n",
        "X_val.sort_indices()"
      ],
      "execution_count": 40,
      "outputs": []
    },
    {
      "cell_type": "code",
      "metadata": {
        "colab": {
          "base_uri": "https://localhost:8080/"
        },
        "id": "q8FvAkPdUXTc",
        "outputId": "c9269ad7-a143-4cef-d0fb-fc52e338676d"
      },
      "source": [
        "hist = model.fit(X_train, y_train, epochs = 3, batch_size=128, validation_data=(X_val, y_val))"
      ],
      "execution_count": 41,
      "outputs": [
        {
          "output_type": "stream",
          "name": "stdout",
          "text": [
            "Epoch 1/3\n"
          ]
        },
        {
          "output_type": "stream",
          "name": "stderr",
          "text": [
            "/usr/local/lib/python3.7/dist-packages/tensorflow/python/framework/indexed_slices.py:449: UserWarning: Converting sparse IndexedSlices(IndexedSlices(indices=Tensor(\"gradient_tape/sequential/dense/embedding_lookup_sparse/Reshape_1:0\", shape=(None,), dtype=int32), values=Tensor(\"gradient_tape/sequential/dense/embedding_lookup_sparse/Reshape:0\", shape=(None, 16), dtype=float32), dense_shape=Tensor(\"gradient_tape/sequential/dense/embedding_lookup_sparse/Cast:0\", shape=(2,), dtype=int32))) to a dense Tensor of unknown shape. This may consume a large amount of memory.\n",
            "  \"shape. This may consume a large amount of memory.\" % value)\n"
          ]
        },
        {
          "output_type": "stream",
          "name": "stdout",
          "text": [
            "250/250 [==============================] - 4s 12ms/step - loss: 0.4461 - accuracy: 0.8594 - val_loss: 0.2785 - val_accuracy: 0.8906\n",
            "Epoch 2/3\n",
            "250/250 [==============================] - 3s 10ms/step - loss: 0.2130 - accuracy: 0.9178 - val_loss: 0.2488 - val_accuracy: 0.8994\n",
            "Epoch 3/3\n",
            "250/250 [==============================] - 3s 11ms/step - loss: 0.1660 - accuracy: 0.9376 - val_loss: 0.2575 - val_accuracy: 0.8953\n"
          ]
        }
      ]
    },
    {
      "cell_type": "code",
      "metadata": {
        "id": "KLDcm7jVdp-4"
      },
      "source": [
        "result = hist.history"
      ],
      "execution_count": 42,
      "outputs": []
    },
    {
      "cell_type": "code",
      "metadata": {
        "colab": {
          "base_uri": "https://localhost:8080/",
          "height": 266
        },
        "id": "mB5Yke6bdqqB",
        "outputId": "f4ce95e1-fb06-467d-eb19-af739b2ea384"
      },
      "source": [
        "plt.plot(result['val_accuracy'], label = \"Val acc\")\n",
        "plt.plot(result['accuracy'], label = \"Train acc\")\n",
        "plt.legend()\n",
        "plt.show()"
      ],
      "execution_count": 43,
      "outputs": [
        {
          "output_type": "display_data",
          "data": {
            "image/png": "[encoded data removed]",
            "text/plain": [
              "<Figure size 432x288 with 1 Axes>"
            ]
          },
          "metadata": {
            "needs_background": "light"
          }
        }
      ]
    },
    {
      "cell_type": "code",
      "metadata": {
        "colab": {
          "base_uri": "https://localhost:8080/",
          "height": 265
        },
        "id": "CJTqe9wTds7u",
        "outputId": "092c36a3-f3ef-4205-f940-8f86e274e197"
      },
      "source": [
        "plt.plot(result['val_loss'], label = \"Val loss\")\n",
        "plt.plot(result['loss'], label = \"Train loss\")\n",
        "plt.legend()\n",
        "plt.show()"
      ],
      "execution_count": 44,
      "outputs": [
        {
          "output_type": "display_data",
          "data": {
            "image/png": "[encoded data removed]",
            "text/plain": [
              "<Figure size 432x288 with 1 Axes>"
            ]
          },
          "metadata": {
            "needs_background": "light"
          }
        }
      ]
    },
    {
      "cell_type": "code",
      "metadata": {
        "colab": {
          "base_uri": "https://localhost:8080/"
        },
        "id": "_NY3plFidu9W",
        "outputId": "70809f84-0727-412e-9d9d-52d224566a5f"
      },
      "source": [
        "model.evaluate(X_val, y_val)"
      ],
      "execution_count": 45,
      "outputs": [
        {
          "output_type": "stream",
          "name": "stdout",
          "text": [
            "250/250 [==============================] - 0s 2ms/step - loss: 0.2575 - accuracy: 0.8953\n"
          ]
        },
        {
          "output_type": "execute_result",
          "data": {
            "text/plain": [
              "[0.2575269639492035, 0.8952500224113464]"
            ]
          },
          "metadata": {},
          "execution_count": 45
        }
      ]
    },
    {
      "cell_type": "markdown",
      "metadata": {
        "id": "60CbEhhFdxCG"
      },
      "source": [
        "### Testing"
      ]
    },
    {
      "cell_type": "markdown",
      "metadata": {
        "id": "Z5gzYIthbvZi"
      },
      "source": [
        "Loading the test data."
      ]
    },
    {
      "cell_type": "code",
      "metadata": {
        "id": "_Zu6UeKdkzfv"
      },
      "source": [
        "test_data = pd.read_csv('/content/drive/MyDrive/Test.csv')"
      ],
      "execution_count": 46,
      "outputs": []
    },
    {
      "cell_type": "code",
      "metadata": {
        "colab": {
          "base_uri": "https://localhost:8080/"
        },
        "id": "lfZPHOFLk6GM",
        "outputId": "d5c528c3-3947-46f0-e550-5fae07cc0c8c"
      },
      "source": [
        "test_data.shape"
      ],
      "execution_count": 47,
      "outputs": [
        {
          "output_type": "execute_result",
          "data": {
            "text/plain": [
              "(10000, 1)"
            ]
          },
          "metadata": {},
          "execution_count": 47
        }
      ]
    },
    {
      "cell_type": "markdown",
      "metadata": {
        "id": "O64QxOgHbx4B"
      },
      "source": [
        "Preprocessing the reviews."
      ]
    },
    {
      "cell_type": "code",
      "metadata": {
        "id": "GIMtyB-FlC0D"
      },
      "source": [
        "test_data['cleaned_review'] = test_data['review'].apply(preprocessor)"
      ],
      "execution_count": 48,
      "outputs": []
    },
    {
      "cell_type": "code",
      "metadata": {
        "colab": {
          "base_uri": "https://localhost:8080/",
          "height": 422
        },
        "id": "y9ZOlu9H5lE-",
        "outputId": "bb22f695-4752-46f8-da06-ba91fcd30fd7"
      },
      "source": [
        "test_data"
      ],
      "execution_count": 49,
      "outputs": [
        {
          "output_type": "execute_result",
          "data": {
            "text/html": [
              "<div>\n",
              "<style scoped>\n",
              "    .dataframe tbody tr th:only-of-type {\n",
              "        vertical-align: middle;\n",
              "    }\n",
              "\n",
              "    .dataframe tbody tr th {\n",
              "        vertical-align: top;\n",
              "    }\n",
              "\n",
              "    .dataframe thead th {\n",
              "        text-align: right;\n",
              "    }\n",
              "</style>\n",
              "<table border=\"1\" class=\"dataframe\">\n",
              "  <thead>\n",
              "    <tr style=\"text-align: right;\">\n",
              "      <th></th>\n",
              "      <th>review</th>\n",
              "      <th>cleaned_review</th>\n",
              "    </tr>\n",
              "  </thead>\n",
              "  <tbody>\n",
              "    <tr>\n",
              "      <th>0</th>\n",
              "      <td>Remember those old kung fu movies we used to w...</td>\n",
              "      <td>rememb old kung fu movi use watch friday satur...</td>\n",
              "    </tr>\n",
              "    <tr>\n",
              "      <th>1</th>\n",
              "      <td>This movie is another one on my List of Movies...</td>\n",
              "      <td>movi anoth one list movi bother saw year ago a...</td>\n",
              "    </tr>\n",
              "    <tr>\n",
              "      <th>2</th>\n",
              "      <td>How in the world does a thing like this get in...</td>\n",
              "      <td>world thing like get dvd player home even get ...</td>\n",
              "    </tr>\n",
              "    <tr>\n",
              "      <th>3</th>\n",
              "      <td>\"Queen of the Damned\" is one of the best vampi...</td>\n",
              "      <td>queen damn one best vampir movi ever seen movi...</td>\n",
              "    </tr>\n",
              "    <tr>\n",
              "      <th>4</th>\n",
              "      <td>The Caprica episode (S01E01) is well done as a...</td>\n",
              "      <td>caprica episod e well done pilot realli episod...</td>\n",
              "    </tr>\n",
              "    <tr>\n",
              "      <th>...</th>\n",
              "      <td>...</td>\n",
              "      <td>...</td>\n",
              "    </tr>\n",
              "    <tr>\n",
              "      <th>9995</th>\n",
              "      <td>Watched this piece ONDEMAND because the descri...</td>\n",
              "      <td>watch piec ondemand descript kind outlandish f...</td>\n",
              "    </tr>\n",
              "    <tr>\n",
              "      <th>9996</th>\n",
              "      <td>A nurse travels to a rural psychiatric clinic ...</td>\n",
              "      <td>nurs travel rural psychiatr clinic run doctor ...</td>\n",
              "    </tr>\n",
              "    <tr>\n",
              "      <th>9997</th>\n",
              "      <td>Although this small film kind of got lost in t...</td>\n",
              "      <td>although small film kind got lost wake waterfr...</td>\n",
              "    </tr>\n",
              "    <tr>\n",
              "      <th>9998</th>\n",
              "      <td>I first saw this film in the early 80's on cab...</td>\n",
              "      <td>first saw film earli cabl uniqu statement sixt...</td>\n",
              "    </tr>\n",
              "    <tr>\n",
              "      <th>9999</th>\n",
              "      <td>Recognizing the picture of the diner on the co...</td>\n",
              "      <td>recogn pictur diner cover dvd made realiz loca...</td>\n",
              "    </tr>\n",
              "  </tbody>\n",
              "</table>\n",
              "<p>10000 rows × 2 columns</p>\n",
              "</div>"
            ],
            "text/plain": [
              "                                                 review                                     cleaned_review\n",
              "0     Remember those old kung fu movies we used to w...  rememb old kung fu movi use watch friday satur...\n",
              "1     This movie is another one on my List of Movies...  movi anoth one list movi bother saw year ago a...\n",
              "2     How in the world does a thing like this get in...  world thing like get dvd player home even get ...\n",
              "3     \"Queen of the Damned\" is one of the best vampi...  queen damn one best vampir movi ever seen movi...\n",
              "4     The Caprica episode (S01E01) is well done as a...  caprica episod e well done pilot realli episod...\n",
              "...                                                 ...                                                ...\n",
              "9995  Watched this piece ONDEMAND because the descri...  watch piec ondemand descript kind outlandish f...\n",
              "9996  A nurse travels to a rural psychiatric clinic ...  nurs travel rural psychiatr clinic run doctor ...\n",
              "9997  Although this small film kind of got lost in t...  although small film kind got lost wake waterfr...\n",
              "9998  I first saw this film in the early 80's on cab...  first saw film earli cabl uniqu statement sixt...\n",
              "9999  Recognizing the picture of the diner on the co...  recogn pictur diner cover dvd made realiz loca...\n",
              "\n",
              "[10000 rows x 2 columns]"
            ]
          },
          "metadata": {},
          "execution_count": 49
        }
      ]
    },
    {
      "cell_type": "code",
      "metadata": {
        "id": "CBHOiefglFiy"
      },
      "source": [
        "X_test = test_data['cleaned_review']"
      ],
      "execution_count": 50,
      "outputs": []
    },
    {
      "cell_type": "code",
      "metadata": {
        "id": "naQcfRlJ5_Mk"
      },
      "source": [
        "X_test = tfidf.transform(X_test)"
      ],
      "execution_count": 51,
      "outputs": []
    },
    {
      "cell_type": "code",
      "metadata": {
        "colab": {
          "base_uri": "https://localhost:8080/"
        },
        "id": "Xq6ZGidFlHr0",
        "outputId": "5b668291-98df-4469-cd45-e1e2ae02c30d"
      },
      "source": [
        "X_test.shape"
      ],
      "execution_count": 52,
      "outputs": [
        {
          "output_type": "execute_result",
          "data": {
            "text/plain": [
              "(10000, 50000)"
            ]
          },
          "metadata": {},
          "execution_count": 52
        }
      ]
    },
    {
      "cell_type": "code",
      "metadata": {
        "id": "Tzl2mVaAlkS0"
      },
      "source": [
        "X_test.sort_indices()"
      ],
      "execution_count": 53,
      "outputs": []
    },
    {
      "cell_type": "code",
      "metadata": {
        "id": "CUW0Ie1PlKlK"
      },
      "source": [
        "y_pred = model.predict(X_test)"
      ],
      "execution_count": 54,
      "outputs": []
    },
    {
      "cell_type": "markdown",
      "metadata": {
        "id": "W5h326qeb6Kf"
      },
      "source": [
        "Rounding off labels to 0 and 1."
      ]
    },
    {
      "cell_type": "code",
      "metadata": {
        "id": "Rm8D9ut7lMR1"
      },
      "source": [
        "y_pred[ y_pred >= 0.5 ]  =  1"
      ],
      "execution_count": 55,
      "outputs": []
    },
    {
      "cell_type": "code",
      "metadata": {
        "id": "kbkeviYwlNey"
      },
      "source": [
        "y_pred = y_pred.astype('int')"
      ],
      "execution_count": 56,
      "outputs": []
    },
    {
      "cell_type": "code",
      "metadata": {
        "colab": {
          "base_uri": "https://localhost:8080/"
        },
        "id": "k6j_YW-SlO0t",
        "outputId": "028c8b23-80a3-4513-debc-d05d37638658"
      },
      "source": [
        "y_pred[:10]"
      ],
      "execution_count": 57,
      "outputs": [
        {
          "output_type": "execute_result",
          "data": {
            "text/plain": [
              "array([[0],\n",
              "       [0],\n",
              "       [0],\n",
              "       [1],\n",
              "       [1],\n",
              "       [0],\n",
              "       [1],\n",
              "       [0],\n",
              "       [1],\n",
              "       [1]])"
            ]
          },
          "metadata": {},
          "execution_count": 57
        }
      ]
    },
    {
      "cell_type": "markdown",
      "metadata": {
        "id": "PwJ-VQ8ecAak"
      },
      "source": [
        "Using a dictionary to decode the labels."
      ]
    },
    {
      "cell_type": "code",
      "metadata": {
        "id": "l6xgJp-5lRVX"
      },
      "source": [
        "dic = {0 : 'neg' , 1 : 'pos'}\n",
        "y_pred = [ dic[p[0]] for p in y_pred ]"
      ],
      "execution_count": 58,
      "outputs": []
    },
    {
      "cell_type": "code",
      "metadata": {
        "colab": {
          "base_uri": "https://localhost:8080/"
        },
        "id": "EvME8ZknTg6l",
        "outputId": "74be4d27-01f2-400e-f300-881807a1e29e"
      },
      "source": [
        "y_pred[:10]"
      ],
      "execution_count": 59,
      "outputs": [
        {
          "output_type": "execute_result",
          "data": {
            "text/plain": [
              "['neg', 'neg', 'neg', 'pos', 'pos', 'neg', 'pos', 'neg', 'pos', 'pos']"
            ]
          },
          "metadata": {},
          "execution_count": 59
        }
      ]
    },
    {
      "cell_type": "markdown",
      "metadata": {
        "id": "5yCNQopycMUA"
      },
      "source": [
        "Adding the reviews and predicted label to a dataframe."
      ]
    },
    {
      "cell_type": "code",
      "metadata": {
        "id": "3taLOOJCSXDs"
      },
      "source": [
        "df = pd.DataFrame({'Review': test_data['review'], 'Label': y_pred}, \n",
        "                  columns=['Review', 'Label'])"
      ],
      "execution_count": 60,
      "outputs": []
    },
    {
      "cell_type": "code",
      "metadata": {
        "colab": {
          "base_uri": "https://localhost:8080/",
          "height": 205
        },
        "id": "kJiodZ7LTPMO",
        "outputId": "882262d6-96f8-47aa-8120-990045a7fe61"
      },
      "source": [
        "df.head()"
      ],
      "execution_count": 61,
      "outputs": [
        {
          "output_type": "execute_result",
          "data": {
            "text/html": [
              "<div>\n",
              "<style scoped>\n",
              "    .dataframe tbody tr th:only-of-type {\n",
              "        vertical-align: middle;\n",
              "    }\n",
              "\n",
              "    .dataframe tbody tr th {\n",
              "        vertical-align: top;\n",
              "    }\n",
              "\n",
              "    .dataframe thead th {\n",
              "        text-align: right;\n",
              "    }\n",
              "</style>\n",
              "<table border=\"1\" class=\"dataframe\">\n",
              "  <thead>\n",
              "    <tr style=\"text-align: right;\">\n",
              "      <th></th>\n",
              "      <th>Review</th>\n",
              "      <th>Label</th>\n",
              "    </tr>\n",
              "  </thead>\n",
              "  <tbody>\n",
              "    <tr>\n",
              "      <th>0</th>\n",
              "      <td>Remember those old kung fu movies we used to w...</td>\n",
              "      <td>neg</td>\n",
              "    </tr>\n",
              "    <tr>\n",
              "      <th>1</th>\n",
              "      <td>This movie is another one on my List of Movies...</td>\n",
              "      <td>neg</td>\n",
              "    </tr>\n",
              "    <tr>\n",
              "      <th>2</th>\n",
              "      <td>How in the world does a thing like this get in...</td>\n",
              "      <td>neg</td>\n",
              "    </tr>\n",
              "    <tr>\n",
              "      <th>3</th>\n",
              "      <td>\"Queen of the Damned\" is one of the best vampi...</td>\n",
              "      <td>pos</td>\n",
              "    </tr>\n",
              "    <tr>\n",
              "      <th>4</th>\n",
              "      <td>The Caprica episode (S01E01) is well done as a...</td>\n",
              "      <td>pos</td>\n",
              "    </tr>\n",
              "  </tbody>\n",
              "</table>\n",
              "</div>"
            ],
            "text/plain": [
              "                                              Review Label\n",
              "0  Remember those old kung fu movies we used to w...   neg\n",
              "1  This movie is another one on my List of Movies...   neg\n",
              "2  How in the world does a thing like this get in...   neg\n",
              "3  \"Queen of the Damned\" is one of the best vampi...   pos\n",
              "4  The Caprica episode (S01E01) is well done as a...   pos"
            ]
          },
          "metadata": {},
          "execution_count": 61
        }
      ]
    },
    {
      "cell_type": "markdown",
      "metadata": {
        "id": "DznclXsmcVxi"
      },
      "source": [
        "Saving the prediction in a csv file."
      ]
    },
    {
      "cell_type": "code",
      "metadata": {
        "id": "8PayangnlW5t"
      },
      "source": [
        "df.to_csv(\"Prediction.csv\", index = False)"
      ],
      "execution_count": 62,
      "outputs": []
    }
  ]
}